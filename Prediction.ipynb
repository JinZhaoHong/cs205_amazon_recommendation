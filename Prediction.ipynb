{
 "cells": [
  {
   "cell_type": "code",
   "execution_count": 1,
   "metadata": {},
   "outputs": [
    {
     "name": "stderr",
     "output_type": "stream",
     "text": [
      "Using TensorFlow backend.\n"
     ]
    }
   ],
   "source": [
    "from keras.models import Model, Sequential\n",
    "from keras.layers import Flatten, MaxPooling2D, Conv2D, Dense, Activation, Input\n",
    "from keras import layers\n",
    "from keras import models\n",
    "from keras.utils import np_utils\n",
    "from keras.datasets import mnist\n",
    "import keras as keras\n",
    "import keras.backend as K\n",
    "import numpy as np\n",
    "from os import listdir\n",
    "from os.path import isfile, join"
   ]
  },
  {
   "cell_type": "code",
   "execution_count": 85,
   "metadata": {},
   "outputs": [],
   "source": [
    "path = \"train\"\n",
    "\n",
    "X_train = []\n",
    "Y_train = []\n",
    "\n",
    "onlyfiles = [f for f in listdir(path) if isfile(join(path, f))]\n",
    "\n",
    "for file in onlyfiles:\n",
    "    file = join(path, file)\n",
    "    f = open(file, \"r\", encoding='latin-1')\n",
    "    \n",
    "    line = f.readline()\n",
    "    \n",
    "    \n",
    "    while line:\n",
    "        try: \n",
    "            splitted = line.replace(\"(\", \"\").replace(\")\", \"\") \\\n",
    "                  .replace(\"[\", \"\").replace(\"]\", \"\") \\\n",
    "                  .replace('\\n', \"\").replace(\" \", \"\").split(\",\")\n",
    "\n",
    "            splitted = np.array(splitted).astype(float)\n",
    "            X_train.append(splitted[:-1])\n",
    "            Y_train.append(splitted[-1])\n",
    "        except:\n",
    "            pass\n",
    "\n",
    "        line = f.readline() \n",
    "\n",
    "X_train = np.array(X_train)\n",
    "Y_train = np.array(Y_train)\n",
    "\n",
    "X_train_ = np.zeros((X_train.shape[0], X_train[0].shape[0]))\n",
    "Y_train_ = np.zeros((X_train.shape[0]))\n",
    "for i in range(X_train.shape[0]):\n",
    "    if len(X_train[i]) == len(X_train_[i]):\n",
    "        X_train_[i] = X_train[i][:].tolist()\n",
    "        Y_train_[i] = Y_train[i]\n",
    "    \n",
    "X_train = X_train_\n",
    "Y_train = Y_train_"
   ]
  },
  {
   "cell_type": "code",
   "execution_count": 89,
   "metadata": {},
   "outputs": [],
   "source": [
    "model = Sequential()\n",
    "model.add(Dense(200, input_dim=X_train.shape[1], activation='relu'))\n",
    "model.add(Dense(200, activation='relu'))\n",
    "model.add(Dense(200, activation='relu'))\n",
    "model.add(Dense(1))"
   ]
  },
  {
   "cell_type": "code",
   "execution_count": 90,
   "metadata": {},
   "outputs": [
    {
     "name": "stdout",
     "output_type": "stream",
     "text": [
      "_________________________________________________________________\n",
      "Layer (type)                 Output Shape              Param #   \n",
      "=================================================================\n",
      "dense_17 (Dense)             (None, 200)               8200      \n",
      "_________________________________________________________________\n",
      "dense_18 (Dense)             (None, 200)               40200     \n",
      "_________________________________________________________________\n",
      "dense_19 (Dense)             (None, 200)               40200     \n",
      "_________________________________________________________________\n",
      "dense_20 (Dense)             (None, 1)                 201       \n",
      "=================================================================\n",
      "Total params: 88,801\n",
      "Trainable params: 88,801\n",
      "Non-trainable params: 0\n",
      "_________________________________________________________________\n"
     ]
    }
   ],
   "source": [
    "model.summary()"
   ]
  },
  {
   "cell_type": "code",
   "execution_count": 92,
   "metadata": {
    "scrolled": true
   },
   "outputs": [
    {
     "name": "stdout",
     "output_type": "stream",
     "text": [
      "Epoch 1/100\n",
      "982635/982635 [==============================] - 6s 6us/step - loss: 0.2943 - acc: 0.8306\n",
      "Epoch 2/100\n",
      "982635/982635 [==============================] - 6s 6us/step - loss: 0.1971 - acc: 0.9335\n",
      "Epoch 3/100\n",
      "982635/982635 [==============================] - 6s 6us/step - loss: 0.1769 - acc: 0.9515\n",
      "Epoch 4/100\n",
      "982635/982635 [==============================] - 6s 6us/step - loss: 0.1640 - acc: 0.9609\n",
      "Epoch 5/100\n",
      "982635/982635 [==============================] - 6s 6us/step - loss: 0.1547 - acc: 0.9669\n",
      "Epoch 6/100\n",
      "982635/982635 [==============================] - 6s 6us/step - loss: 0.1499 - acc: 0.9703\n",
      "Epoch 7/100\n",
      "982635/982635 [==============================] - 6s 6us/step - loss: 0.1406 - acc: 0.9751\n",
      "Epoch 8/100\n",
      "982635/982635 [==============================] - 6s 6us/step - loss: 0.1351 - acc: 0.9773\n",
      "Epoch 9/100\n",
      "982635/982635 [==============================] - 6s 6us/step - loss: 0.1248 - acc: 0.9800\n",
      "Epoch 10/100\n",
      "982635/982635 [==============================] - 6s 6us/step - loss: 0.1186 - acc: 0.9805\n",
      "Epoch 11/100\n",
      "982635/982635 [==============================] - 6s 6us/step - loss: 0.1127 - acc: 0.9810\n",
      "Epoch 12/100\n",
      "982635/982635 [==============================] - 6s 6us/step - loss: 0.1064 - acc: 0.9816\n",
      "Epoch 13/100\n",
      "982635/982635 [==============================] - 6s 6us/step - loss: 0.1024 - acc: 0.9816\n",
      "Epoch 14/100\n",
      "982635/982635 [==============================] - 6s 6us/step - loss: 0.1000 - acc: 0.9812\n",
      "Epoch 15/100\n",
      "982635/982635 [==============================] - 6s 6us/step - loss: 0.0969 - acc: 0.9815\n",
      "Epoch 16/100\n",
      "982635/982635 [==============================] - 6s 6us/step - loss: 0.0950 - acc: 0.9818\n",
      "Epoch 17/100\n",
      "982635/982635 [==============================] - 6s 6us/step - loss: 0.0952 - acc: 0.9808\n",
      "Epoch 18/100\n",
      "982635/982635 [==============================] - 6s 6us/step - loss: 0.0924 - acc: 0.9824\n",
      "Epoch 19/100\n",
      "982635/982635 [==============================] - 6s 6us/step - loss: 0.0974 - acc: 0.9807\n",
      "Epoch 20/100\n",
      "982635/982635 [==============================] - 6s 6us/step - loss: 0.0863 - acc: 0.9839\n",
      "Epoch 21/100\n",
      "982635/982635 [==============================] - 6s 6us/step - loss: 0.0823 - acc: 0.9842\n",
      "Epoch 22/100\n",
      "982635/982635 [==============================] - 6s 6us/step - loss: 0.0840 - acc: 0.9837\n",
      "Epoch 23/100\n",
      "982635/982635 [==============================] - 6s 6us/step - loss: 0.0800 - acc: 0.9848\n",
      "Epoch 24/100\n",
      "982635/982635 [==============================] - 6s 6us/step - loss: 0.0836 - acc: 0.9836\n",
      "Epoch 25/100\n",
      "982635/982635 [==============================] - 6s 6us/step - loss: 0.0772 - acc: 0.9852\n",
      "Epoch 26/100\n",
      "982635/982635 [==============================] - 6s 6us/step - loss: 0.0707 - acc: 0.9858\n",
      "Epoch 27/100\n",
      "982635/982635 [==============================] - 6s 6us/step - loss: 0.0653 - acc: 0.9853\n",
      "Epoch 28/100\n",
      "982635/982635 [==============================] - 6s 6us/step - loss: 0.0632 - acc: 0.9862\n",
      "Epoch 29/100\n",
      "982635/982635 [==============================] - 6s 6us/step - loss: 0.0592 - acc: 0.9860\n",
      "Epoch 30/100\n",
      "982635/982635 [==============================] - 6s 6us/step - loss: 0.0571 - acc: 0.9861\n",
      "Epoch 31/100\n",
      "982635/982635 [==============================] - 6s 6us/step - loss: 0.0522 - acc: 0.9861\n",
      "Epoch 32/100\n",
      "982635/982635 [==============================] - 6s 6us/step - loss: 0.0544 - acc: 0.9858\n",
      "Epoch 33/100\n",
      "982635/982635 [==============================] - 6s 6us/step - loss: 0.0524 - acc: 0.9859\n",
      "Epoch 34/100\n",
      "982635/982635 [==============================] - 6s 6us/step - loss: 0.0505 - acc: 0.9862\n",
      "Epoch 35/100\n",
      "982635/982635 [==============================] - 6s 6us/step - loss: 0.0500 - acc: 0.9868\n",
      "Epoch 36/100\n",
      "982635/982635 [==============================] - 6s 6us/step - loss: 0.0484 - acc: 0.9868\n",
      "Epoch 37/100\n",
      "982635/982635 [==============================] - 6s 6us/step - loss: 0.0479 - acc: 0.9872\n",
      "Epoch 38/100\n",
      "982635/982635 [==============================] - 6s 6us/step - loss: 0.0460 - acc: 0.9864\n",
      "Epoch 39/100\n",
      "982635/982635 [==============================] - 6s 6us/step - loss: 0.0490 - acc: 0.9862\n",
      "Epoch 40/100\n",
      "982635/982635 [==============================] - 6s 6us/step - loss: 0.0444 - acc: 0.9877\n",
      "Epoch 41/100\n",
      "982635/982635 [==============================] - 6s 6us/step - loss: 0.0457 - acc: 0.9876\n",
      "Epoch 42/100\n",
      "982635/982635 [==============================] - 6s 6us/step - loss: 0.0456 - acc: 0.9878\n",
      "Epoch 43/100\n",
      "982635/982635 [==============================] - 6s 6us/step - loss: 0.0440 - acc: 0.9881\n",
      "Epoch 44/100\n",
      "982635/982635 [==============================] - 6s 6us/step - loss: 0.0421 - acc: 0.9881\n",
      "Epoch 45/100\n",
      "982635/982635 [==============================] - 6s 6us/step - loss: 0.0429 - acc: 0.9887\n",
      "Epoch 46/100\n",
      "982635/982635 [==============================] - 6s 6us/step - loss: 0.0412 - acc: 0.9890\n",
      "Epoch 47/100\n",
      "982635/982635 [==============================] - 6s 6us/step - loss: 0.0413 - acc: 0.9891\n",
      "Epoch 48/100\n",
      "982635/982635 [==============================] - 6s 6us/step - loss: 0.0413 - acc: 0.9882\n",
      "Epoch 49/100\n",
      "982635/982635 [==============================] - 6s 6us/step - loss: 0.0414 - acc: 0.9886\n",
      "Epoch 50/100\n",
      "982635/982635 [==============================] - 7s 7us/step - loss: 0.0387 - acc: 0.9897\n",
      "Epoch 51/100\n",
      "982635/982635 [==============================] - 6s 6us/step - loss: 0.0379 - acc: 0.9896\n",
      "Epoch 52/100\n",
      "982635/982635 [==============================] - 7s 7us/step - loss: 0.0391 - acc: 0.9888\n",
      "Epoch 53/100\n",
      "982635/982635 [==============================] - 7s 7us/step - loss: 0.0391 - acc: 0.9877\n",
      "Epoch 54/100\n",
      "982635/982635 [==============================] - 6s 6us/step - loss: 0.0373 - acc: 0.9899\n",
      "Epoch 55/100\n",
      "982635/982635 [==============================] - 6s 6us/step - loss: 0.0358 - acc: 0.9902\n",
      "Epoch 56/100\n",
      "982635/982635 [==============================] - 7s 7us/step - loss: 0.0363 - acc: 0.9895\n",
      "Epoch 57/100\n",
      "982635/982635 [==============================] - 7s 7us/step - loss: 0.0382 - acc: 0.9892\n",
      "Epoch 58/100\n",
      "982635/982635 [==============================] - 7s 7us/step - loss: 0.0358 - acc: 0.9901\n",
      "Epoch 59/100\n",
      "982635/982635 [==============================] - 6s 6us/step - loss: 0.0347 - acc: 0.9904\n",
      "Epoch 60/100\n",
      "982635/982635 [==============================] - 6s 6us/step - loss: 0.0356 - acc: 0.9898\n",
      "Epoch 61/100\n",
      "982635/982635 [==============================] - 6s 6us/step - loss: 0.0372 - acc: 0.9897\n",
      "Epoch 62/100\n",
      "982635/982635 [==============================] - 6s 6us/step - loss: 0.0357 - acc: 0.9895\n",
      "Epoch 63/100\n",
      "982635/982635 [==============================] - 6s 6us/step - loss: 0.0368 - acc: 0.9906\n",
      "Epoch 64/100\n",
      "982635/982635 [==============================] - 7s 7us/step - loss: 0.0342 - acc: 0.9909\n",
      "Epoch 65/100\n",
      "982635/982635 [==============================] - 6s 6us/step - loss: 0.0347 - acc: 0.9900\n",
      "Epoch 66/100\n",
      "982635/982635 [==============================] - 6s 6us/step - loss: 0.0338 - acc: 0.9910\n",
      "Epoch 67/100\n",
      "982635/982635 [==============================] - 6s 6us/step - loss: 0.0365 - acc: 0.9903\n",
      "Epoch 68/100\n",
      "982635/982635 [==============================] - 6s 6us/step - loss: 0.0332 - acc: 0.9910\n",
      "Epoch 69/100\n",
      "982635/982635 [==============================] - 6s 6us/step - loss: 0.0328 - acc: 0.9908\n",
      "Epoch 70/100\n",
      "982635/982635 [==============================] - 6s 6us/step - loss: 0.0330 - acc: 0.9908\n",
      "Epoch 71/100\n",
      "982635/982635 [==============================] - 6s 6us/step - loss: 0.0325 - acc: 0.9908\n",
      "Epoch 72/100\n",
      "982635/982635 [==============================] - 6s 6us/step - loss: 0.0315 - acc: 0.9911\n",
      "Epoch 73/100\n",
      "982635/982635 [==============================] - 6s 6us/step - loss: 0.0321 - acc: 0.9912\n",
      "Epoch 74/100\n",
      "982635/982635 [==============================] - 6s 6us/step - loss: 0.0361 - acc: 0.9896\n",
      "Epoch 75/100\n",
      "982635/982635 [==============================] - 6s 6us/step - loss: 0.0308 - acc: 0.9920\n",
      "Epoch 76/100\n",
      "982635/982635 [==============================] - 6s 6us/step - loss: 0.0337 - acc: 0.9911\n",
      "Epoch 77/100\n",
      "982635/982635 [==============================] - 6s 6us/step - loss: 0.0335 - acc: 0.9906\n",
      "Epoch 78/100\n",
      "982635/982635 [==============================] - 6s 6us/step - loss: 0.0315 - acc: 0.9914\n",
      "Epoch 79/100\n",
      "982635/982635 [==============================] - 5s 6us/step - loss: 0.0300 - acc: 0.9921\n",
      "Epoch 80/100\n"
     ]
    },
    {
     "name": "stdout",
     "output_type": "stream",
     "text": [
      "982635/982635 [==============================] - 6s 6us/step - loss: 0.0307 - acc: 0.9913\n",
      "Epoch 81/100\n",
      "982635/982635 [==============================] - 6s 6us/step - loss: 0.0320 - acc: 0.9912\n",
      "Epoch 82/100\n",
      "982635/982635 [==============================] - 6s 6us/step - loss: 0.0297 - acc: 0.9920\n",
      "Epoch 83/100\n",
      "982635/982635 [==============================] - 6s 6us/step - loss: 0.0318 - acc: 0.9911\n",
      "Epoch 84/100\n",
      "982635/982635 [==============================] - 6s 6us/step - loss: 0.0331 - acc: 0.9914\n",
      "Epoch 85/100\n",
      "982635/982635 [==============================] - 6s 6us/step - loss: 0.0299 - acc: 0.9922\n",
      "Epoch 86/100\n",
      "982635/982635 [==============================] - 6s 6us/step - loss: 0.0288 - acc: 0.9923\n",
      "Epoch 87/100\n",
      "982635/982635 [==============================] - 6s 6us/step - loss: 0.0315 - acc: 0.9914\n",
      "Epoch 88/100\n",
      "982635/982635 [==============================] - 6s 6us/step - loss: 0.0326 - acc: 0.9907\n",
      "Epoch 89/100\n",
      "982635/982635 [==============================] - 6s 6us/step - loss: 0.0299 - acc: 0.9921\n",
      "Epoch 90/100\n",
      "982635/982635 [==============================] - 6s 6us/step - loss: 0.0289 - acc: 0.9925\n",
      "Epoch 91/100\n",
      "982635/982635 [==============================] - 6s 6us/step - loss: 0.0304 - acc: 0.9916\n",
      "Epoch 92/100\n",
      "982635/982635 [==============================] - 6s 6us/step - loss: 0.0311 - acc: 0.9918\n",
      "Epoch 93/100\n",
      "982635/982635 [==============================] - 6s 6us/step - loss: 0.0289 - acc: 0.9924\n",
      "Epoch 94/100\n",
      "982635/982635 [==============================] - 6s 6us/step - loss: 0.0291 - acc: 0.9922\n",
      "Epoch 95/100\n",
      "982635/982635 [==============================] - 6s 6us/step - loss: 0.0291 - acc: 0.9922\n",
      "Epoch 96/100\n",
      "982635/982635 [==============================] - 6s 6us/step - loss: 0.0277 - acc: 0.9923\n",
      "Epoch 97/100\n",
      "982635/982635 [==============================] - 6s 6us/step - loss: 0.0308 - acc: 0.9918\n",
      "Epoch 98/100\n",
      "982635/982635 [==============================] - 6s 6us/step - loss: 0.0289 - acc: 0.9926\n",
      "Epoch 99/100\n",
      "982635/982635 [==============================] - 6s 6us/step - loss: 0.0307 - acc: 0.9921\n",
      "Epoch 100/100\n",
      "982635/982635 [==============================] - 6s 6us/step - loss: 0.0285 - acc: 0.9922\n"
     ]
    },
    {
     "data": {
      "text/plain": [
       "<keras.callbacks.History at 0xb3c464ba8>"
      ]
     },
     "execution_count": 92,
     "metadata": {},
     "output_type": "execute_result"
    }
   ],
   "source": [
    "adam = keras.optimizers.Adam(lr=0.001, beta_1=0.9, beta_2=0.999, epsilon=None, decay=0.0, amsgrad=False)\n",
    "model.compile(loss='mean_absolute_error', optimizer=adam, metrics=['accuracy'])\n",
    "model.fit(X_train, Y_train, epochs=100, batch_size=2048)"
   ]
  },
  {
   "cell_type": "code",
   "execution_count": 93,
   "metadata": {},
   "outputs": [],
   "source": [
    "Y_predict = model.predict(X_train)\n",
    "Y_predict.shape = Y_predict.shape[0]"
   ]
  },
  {
   "cell_type": "code",
   "execution_count": 94,
   "metadata": {},
   "outputs": [],
   "source": [
    "MAE = np.sum(np.abs(Y_predict - Y_train)) / Y_predict.shape[0]"
   ]
  },
  {
   "cell_type": "code",
   "execution_count": 95,
   "metadata": {},
   "outputs": [],
   "source": [
    "Y_predict2 = np.sum(X_train[:, :20] * X_train[:, 20:40], axis=1)"
   ]
  },
  {
   "cell_type": "code",
   "execution_count": 96,
   "metadata": {},
   "outputs": [],
   "source": [
    "MAE2 = np.sum(np.abs(Y_predict2 - Y_train)) / Y_predict.shape[0]"
   ]
  },
  {
   "cell_type": "code",
   "execution_count": 97,
   "metadata": {},
   "outputs": [
    {
     "data": {
      "text/plain": [
       "0.05101884592899112"
      ]
     },
     "execution_count": 97,
     "metadata": {},
     "output_type": "execute_result"
    }
   ],
   "source": [
    "MAE2"
   ]
  },
  {
   "cell_type": "code",
   "execution_count": 98,
   "metadata": {},
   "outputs": [
    {
     "data": {
      "text/plain": [
       "0.042650557751786645"
      ]
     },
     "execution_count": 98,
     "metadata": {},
     "output_type": "execute_result"
    }
   ],
   "source": [
    "MAE"
   ]
  }
 ],
 "metadata": {
  "kernelspec": {
   "display_name": "Python 3",
   "language": "python",
   "name": "python3"
  },
  "language_info": {
   "codemirror_mode": {
    "name": "ipython",
    "version": 3
   },
   "file_extension": ".py",
   "mimetype": "text/x-python",
   "name": "python",
   "nbconvert_exporter": "python",
   "pygments_lexer": "ipython3",
   "version": "3.6.8"
  }
 },
 "nbformat": 4,
 "nbformat_minor": 2
}
